{
 "cells": [
  {
   "cell_type": "code",
   "execution_count": 4,
   "metadata": {},
   "outputs": [
    {
     "name": "stdout",
     "output_type": "stream",
     "text": [
      "Financial Analysis\n",
      "----------------------------\n",
      "Total Months: 86\n",
      "Total: $38382578\n",
      "Average Change: $-2315.12\n",
      "Greatest Increase in Profits: Feb-2012 ($1926159)\n",
      "Greatest Decrease in Profits: Sep-2013 ($-2196167)\n"
     ]
    }
   ],
   "source": [
    "import os\n",
    "import csv\n",
    "\n",
    "months=[]\n",
    "profits=[]\n",
    "changes=[]\n",
    "total_profit=0\n",
    "total_change=0\n",
    "csvpath=os.path.join(\".\",\"budget_data.csv\")\n",
    "with open (csvpath, newline=\"\") as csvfile:\n",
    "    csvreader=csv.reader(csvfile, delimiter=\",\")\n",
    "    header=next(csvreader)\n",
    "   \n",
    "    #Creating a list of months and profits\n",
    "    for row in csvreader:\n",
    "        months.append(row[0])\n",
    "        profits.append(row[1])\n",
    "        \n",
    "#Total Number of Months\n",
    "total_months=len(months)\n",
    "\n",
    "#Calculating Total Profit by looping through the Profits list\n",
    "for profit in profits:\n",
    "    total_profit+=int(profit)\n",
    "    \n",
    "#Creating a List of Changes\n",
    "for i in range(len(profits)-1): #\n",
    "    changes.append(int(profits[i+1])-int(profits[i]))\n",
    "    \n",
    "#Calculating the Total Change by looping through the Changes list\n",
    "for change in changes:\n",
    "    total_change+=change\n",
    "    \n",
    "#Average Change\n",
    "average_change=round(total_change/len(changes),2)\n",
    "\n",
    "#Greatest Increase/Decrease in profit\n",
    "greatest_increase=max(changes)\n",
    "greatest_decrease=min(changes)\n",
    "\n",
    "#Getting the indices to find the respective months\n",
    "increase_index=changes.index(greatest_increase)\n",
    "decrease_index=changes.index(greatest_decrease)\n",
    "\n",
    "#Months for greatest increase/decrease in profit\n",
    "increase_month=months[increase_index+1]\n",
    "decrease_month=months[decrease_index+1]\n",
    "\n",
    "\n",
    "#Final Result\n",
    "print(\"Financial Analysis\")\n",
    "print(\"----------------------------\")\n",
    "print(f\"Total Months: {total_months}\")\n",
    "print(f\"Total: ${total_profit}\")\n",
    "print(f\"Average Change: ${average_change}\")\n",
    "print(f\"Greatest Increase in Profits: {increase_month} (${greatest_increase})\")\n",
    "print(f\"Greatest Decrease in Profits: {decrease_month} (${greatest_decrease})\")\n",
    "\n",
    "file_to_output = os.path.join(\".\", \"budget_analysis.txt\")\n",
    "with open(file_to_output, \"w\") as txt_file:\n",
    "    txt_file.write(\"Financial Analysis\")\n",
    "    txt_file.write(\"\\n\")\n",
    "    txt_file.write(\"----------------------------\")\n",
    "    txt_file.write(\"\\n\")\n",
    "    txt_file.write(f\"Total Months: {total_months}\")\n",
    "    txt_file.write(\"\\n\")\n",
    "    txt_file.write(f\"Total: ${total_profit}\")\n",
    "    txt_file.write(\"\\n\")\n",
    "    txt_file.write(f\"Average Change: ${average_change}\")\n",
    "    txt_file.write(\"\\n\")\n",
    "    txt_file.write(f\"Greatest Increase in Profits: {increase_month} (${greatest_increase})\")\n",
    "    txt_file.write(\"\\n\")\n",
    "    txt_file.write(f\"Greatest Decrease in Profits: {decrease_month} (${greatest_decrease})\")    \n",
    "    \n",
    "    \n",
    "    "
   ]
  },
  {
   "cell_type": "code",
   "execution_count": null,
   "metadata": {},
   "outputs": [],
   "source": []
  },
  {
   "cell_type": "code",
   "execution_count": null,
   "metadata": {},
   "outputs": [],
   "source": []
  }
 ],
 "metadata": {
  "kernelspec": {
   "display_name": "Python 3",
   "language": "python",
   "name": "python3"
  },
  "language_info": {
   "codemirror_mode": {
    "name": "ipython",
    "version": 3
   },
   "file_extension": ".py",
   "mimetype": "text/x-python",
   "name": "python",
   "nbconvert_exporter": "python",
   "pygments_lexer": "ipython3",
   "version": "3.7.0"
  }
 },
 "nbformat": 4,
 "nbformat_minor": 2
}
